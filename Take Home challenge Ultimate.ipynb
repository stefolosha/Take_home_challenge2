{
 "cells": [
  {
   "cell_type": "code",
   "execution_count": 250,
   "id": "8ca6c1ef",
   "metadata": {},
   "outputs": [],
   "source": [
    "import pandas as pd\n",
    "import numpy as np\n",
    "import matplotlib.pyplot as plt\n",
    "from datetime import datetime\n",
    "import seaborn as sns\n"
   ]
  },
  {
   "cell_type": "code",
   "execution_count": 225,
   "id": "6390b90b",
   "metadata": {},
   "outputs": [],
   "source": [
    "df = pd.read_json('logins.json')"
   ]
  },
  {
   "cell_type": "code",
   "execution_count": 226,
   "id": "fa9f9eba",
   "metadata": {},
   "outputs": [
    {
     "name": "stdout",
     "output_type": "stream",
     "text": [
      "           login_time\n",
      "0 1970-01-01 20:13:18\n",
      "1 1970-01-01 20:16:10\n",
      "2 1970-01-01 20:16:37\n",
      "3 1970-01-01 20:16:36\n",
      "4 1970-01-01 20:26:21\n",
      "92265\n",
      "93142\n"
     ]
    }
   ],
   "source": [
    "print(df.head())\n",
    "print(len(df.login_time.unique()))\n",
    "print(len(df.login_time))"
   ]
  },
  {
   "cell_type": "code",
   "execution_count": 227,
   "id": "f97be74b",
   "metadata": {},
   "outputs": [
    {
     "name": "stdout",
     "output_type": "stream",
     "text": [
      "<class 'pandas.core.frame.DataFrame'>\n",
      "RangeIndex: 93142 entries, 0 to 93141\n",
      "Data columns (total 1 columns):\n",
      " #   Column      Non-Null Count  Dtype         \n",
      "---  ------      --------------  -----         \n",
      " 0   login_time  93142 non-null  datetime64[ns]\n",
      "dtypes: datetime64[ns](1)\n",
      "memory usage: 727.8 KB\n"
     ]
    }
   ],
   "source": [
    "df.info()"
   ]
  },
  {
   "cell_type": "markdown",
   "id": "85488b10",
   "metadata": {},
   "source": [
    "Right away we can see that theren are some duplicate entries but out of 90,000 there is only 1,000. In this case there may be a chance that these logins are actually two at the same time but something to be aware of"
   ]
  },
  {
   "cell_type": "code",
   "execution_count": 228,
   "id": "c19a8b72",
   "metadata": {},
   "outputs": [
    {
     "name": "stderr",
     "output_type": "stream",
     "text": [
      "<ipython-input-228-ea8415b8a3ee>:1: FutureWarning: Treating datetime data as categorical rather than numeric in `.describe` is deprecated and will be removed in a future version of pandas. Specify `datetime_is_numeric=True` to silence this warning and adopt the future behavior now.\n",
      "  df.describe()\n"
     ]
    },
    {
     "data": {
      "text/html": [
       "<div>\n",
       "<style scoped>\n",
       "    .dataframe tbody tr th:only-of-type {\n",
       "        vertical-align: middle;\n",
       "    }\n",
       "\n",
       "    .dataframe tbody tr th {\n",
       "        vertical-align: top;\n",
       "    }\n",
       "\n",
       "    .dataframe thead th {\n",
       "        text-align: right;\n",
       "    }\n",
       "</style>\n",
       "<table border=\"1\" class=\"dataframe\">\n",
       "  <thead>\n",
       "    <tr style=\"text-align: right;\">\n",
       "      <th></th>\n",
       "      <th>login_time</th>\n",
       "    </tr>\n",
       "  </thead>\n",
       "  <tbody>\n",
       "    <tr>\n",
       "      <th>count</th>\n",
       "      <td>93142</td>\n",
       "    </tr>\n",
       "    <tr>\n",
       "      <th>unique</th>\n",
       "      <td>92265</td>\n",
       "    </tr>\n",
       "    <tr>\n",
       "      <th>top</th>\n",
       "      <td>1970-04-04 01:17:40</td>\n",
       "    </tr>\n",
       "    <tr>\n",
       "      <th>freq</th>\n",
       "      <td>3</td>\n",
       "    </tr>\n",
       "    <tr>\n",
       "      <th>first</th>\n",
       "      <td>1970-01-01 20:12:16</td>\n",
       "    </tr>\n",
       "    <tr>\n",
       "      <th>last</th>\n",
       "      <td>1970-04-13 18:57:38</td>\n",
       "    </tr>\n",
       "  </tbody>\n",
       "</table>\n",
       "</div>"
      ],
      "text/plain": [
       "                 login_time\n",
       "count                 93142\n",
       "unique                92265\n",
       "top     1970-04-04 01:17:40\n",
       "freq                      3\n",
       "first   1970-01-01 20:12:16\n",
       "last    1970-04-13 18:57:38"
      ]
     },
     "execution_count": 228,
     "metadata": {},
     "output_type": "execute_result"
    }
   ],
   "source": [
    "df.describe()"
   ]
  },
  {
   "cell_type": "code",
   "execution_count": 229,
   "id": "5a20222e",
   "metadata": {},
   "outputs": [],
   "source": [
    "df[df.duplicated(keep=False) == True]\n",
    "df = df[df.duplicated() == False]\n",
    "df.set_index(df.login_time, inplace=True)"
   ]
  },
  {
   "cell_type": "code",
   "execution_count": 230,
   "id": "b7d569d6",
   "metadata": {},
   "outputs": [],
   "source": [
    "df.sort_index(inplace=True)\n",
    "df['counts'] =1\n",
    "df.drop(columns = 'login_time',inplace=True)"
   ]
  },
  {
   "cell_type": "markdown",
   "id": "21227039",
   "metadata": {},
   "source": [
    "now that we see the login times are the same to the exact second I believe there is now reason to remove them as two users logging in on the exact same time on the same machine"
   ]
  },
  {
   "cell_type": "code",
   "execution_count": 231,
   "id": "d1863dfa",
   "metadata": {},
   "outputs": [],
   "source": [
    "df_15 = df.resample('15min').sum()"
   ]
  },
  {
   "cell_type": "code",
   "execution_count": 232,
   "id": "a20b9624",
   "metadata": {},
   "outputs": [
    {
     "data": {
      "text/html": [
       "<div>\n",
       "<style scoped>\n",
       "    .dataframe tbody tr th:only-of-type {\n",
       "        vertical-align: middle;\n",
       "    }\n",
       "\n",
       "    .dataframe tbody tr th {\n",
       "        vertical-align: top;\n",
       "    }\n",
       "\n",
       "    .dataframe thead th {\n",
       "        text-align: right;\n",
       "    }\n",
       "</style>\n",
       "<table border=\"1\" class=\"dataframe\">\n",
       "  <thead>\n",
       "    <tr style=\"text-align: right;\">\n",
       "      <th></th>\n",
       "      <th>counts</th>\n",
       "    </tr>\n",
       "    <tr>\n",
       "      <th>login_time</th>\n",
       "      <th></th>\n",
       "    </tr>\n",
       "  </thead>\n",
       "  <tbody>\n",
       "    <tr>\n",
       "      <th>1970-01-01 20:00:00</th>\n",
       "      <td>2</td>\n",
       "    </tr>\n",
       "    <tr>\n",
       "      <th>1970-01-01 20:15:00</th>\n",
       "      <td>6</td>\n",
       "    </tr>\n",
       "    <tr>\n",
       "      <th>1970-01-01 20:30:00</th>\n",
       "      <td>9</td>\n",
       "    </tr>\n",
       "    <tr>\n",
       "      <th>1970-01-01 20:45:00</th>\n",
       "      <td>7</td>\n",
       "    </tr>\n",
       "    <tr>\n",
       "      <th>1970-01-01 21:00:00</th>\n",
       "      <td>1</td>\n",
       "    </tr>\n",
       "  </tbody>\n",
       "</table>\n",
       "</div>"
      ],
      "text/plain": [
       "                     counts\n",
       "login_time                 \n",
       "1970-01-01 20:00:00       2\n",
       "1970-01-01 20:15:00       6\n",
       "1970-01-01 20:30:00       9\n",
       "1970-01-01 20:45:00       7\n",
       "1970-01-01 21:00:00       1"
      ]
     },
     "execution_count": 232,
     "metadata": {},
     "output_type": "execute_result"
    }
   ],
   "source": [
    "df_15.head()"
   ]
  },
  {
   "cell_type": "code",
   "execution_count": 233,
   "id": "3b5e0e43",
   "metadata": {},
   "outputs": [
    {
     "data": {
      "text/html": [
       "<div>\n",
       "<style scoped>\n",
       "    .dataframe tbody tr th:only-of-type {\n",
       "        vertical-align: middle;\n",
       "    }\n",
       "\n",
       "    .dataframe tbody tr th {\n",
       "        vertical-align: top;\n",
       "    }\n",
       "\n",
       "    .dataframe thead th {\n",
       "        text-align: right;\n",
       "    }\n",
       "</style>\n",
       "<table border=\"1\" class=\"dataframe\">\n",
       "  <thead>\n",
       "    <tr style=\"text-align: right;\">\n",
       "      <th></th>\n",
       "      <th>counts</th>\n",
       "    </tr>\n",
       "  </thead>\n",
       "  <tbody>\n",
       "    <tr>\n",
       "      <th>count</th>\n",
       "      <td>9788.000000</td>\n",
       "    </tr>\n",
       "    <tr>\n",
       "      <th>mean</th>\n",
       "      <td>9.426338</td>\n",
       "    </tr>\n",
       "    <tr>\n",
       "      <th>std</th>\n",
       "      <td>8.172091</td>\n",
       "    </tr>\n",
       "    <tr>\n",
       "      <th>min</th>\n",
       "      <td>0.000000</td>\n",
       "    </tr>\n",
       "    <tr>\n",
       "      <th>25%</th>\n",
       "      <td>3.000000</td>\n",
       "    </tr>\n",
       "    <tr>\n",
       "      <th>50%</th>\n",
       "      <td>7.000000</td>\n",
       "    </tr>\n",
       "    <tr>\n",
       "      <th>75%</th>\n",
       "      <td>13.000000</td>\n",
       "    </tr>\n",
       "    <tr>\n",
       "      <th>max</th>\n",
       "      <td>68.000000</td>\n",
       "    </tr>\n",
       "  </tbody>\n",
       "</table>\n",
       "</div>"
      ],
      "text/plain": [
       "            counts\n",
       "count  9788.000000\n",
       "mean      9.426338\n",
       "std       8.172091\n",
       "min       0.000000\n",
       "25%       3.000000\n",
       "50%       7.000000\n",
       "75%      13.000000\n",
       "max      68.000000"
      ]
     },
     "execution_count": 233,
     "metadata": {},
     "output_type": "execute_result"
    }
   ],
   "source": [
    "df_15.describe()"
   ]
  },
  {
   "cell_type": "code",
   "execution_count": 249,
   "id": "074e1979",
   "metadata": {},
   "outputs": [
    {
     "data": {
      "text/plain": [
       "<AxesSubplot:xlabel='login_time'>"
      ]
     },
     "execution_count": 249,
     "metadata": {},
     "output_type": "execute_result"
    },
    {
     "data": {
      "image/png": "[encoded data removed]",
      "text/plain": [
       "<Figure size 432x288 with 1 Axes>"
      ]
     },
     "metadata": {
      "needs_background": "light"
     },
     "output_type": "display_data"
    }
   ],
   "source": [
    "df_15.plot()"
   ]
  },
  {
   "cell_type": "code",
   "execution_count": 301,
   "id": "ff8e2b7d",
   "metadata": {},
   "outputs": [
    {
     "name": "stdout",
     "output_type": "stream",
     "text": [
      "                     counts  month  hour  day\n",
      "login_time                                   \n",
      "1970-02-03 08:15:00       0      2     8    3\n",
      "1970-03-10 04:00:00       0      3     4   10\n",
      "1970-01-08 05:00:00       0      1     5    8\n",
      "1970-01-08 05:30:00       0      1     5    8\n",
      "1970-01-08 06:00:00       0      1     6    8\n",
      "1970-01-08 06:30:00       0      1     6    8\n",
      "1970-02-23 05:15:00       0      2     5   23\n",
      "1970-02-23 06:30:00       0      2     6   23\n",
      "1970-02-23 06:45:00       0      2     6   23\n",
      "1970-01-27 15:15:00       0      1    15   27\n",
      "1970-02-23 08:45:00       0      2     8   23\n",
      "1970-01-27 17:45:00       0      1    17   27\n",
      "1970-01-27 18:00:00       0      1    18   27\n",
      "1970-01-08 15:00:00       0      1    15    8\n",
      "1970-01-08 15:15:00       0      1    15    8\n",
      "                     counts  month  hour  day\n",
      "login_time                                   \n",
      "1970-02-15 04:45:00      50      2     4   15\n",
      "1970-04-04 00:30:00      51      4     0    4\n",
      "1970-03-17 01:30:00      51      3     1   17\n",
      "1970-03-29 04:45:00      51      3     4   29\n",
      "1970-04-04 01:00:00      53      4     1    4\n",
      "1970-03-13 22:15:00      54      3    22   13\n",
      "1970-04-04 05:15:00      55      4     5    4\n",
      "1970-04-04 05:00:00      55      4     5    4\n",
      "1970-04-04 01:45:00      56      4     1    4\n",
      "1970-04-04 04:45:00      56      4     4    4\n",
      "1970-04-04 01:15:00      57      4     1    4\n",
      "1970-04-01 23:30:00      60      4    23    1\n",
      "1970-04-04 01:30:00      62      4     1    4\n",
      "1970-04-04 05:30:00      64      4     5    4\n",
      "1970-03-01 04:30:00      68      3     4    1\n"
     ]
    }
   ],
   "source": [
    "print(df_15.sort_values('counts').head(15))\n",
    "print(df_15.sort_values('counts').tail(15))"
   ]
  },
  {
   "cell_type": "code",
   "execution_count": 313,
   "id": "3ebf45ee",
   "metadata": {},
   "outputs": [
    {
     "name": "stdout",
     "output_type": "stream",
     "text": [
      "<class 'pandas.core.frame.DataFrame'>\n",
      "DatetimeIndex: 9788 entries, 1970-01-01 20:00:00 to 1970-04-13 18:45:00\n",
      "Freq: 15T\n",
      "Data columns (total 5 columns):\n",
      " #   Column       Non-Null Count  Dtype\n",
      "---  ------       --------------  -----\n",
      " 0   counts       9788 non-null   int64\n",
      " 1   month        9788 non-null   int64\n",
      " 2   hour         9788 non-null   int64\n",
      " 3   day          9788 non-null   int64\n",
      " 4   day_of_week  9788 non-null   int64\n",
      "dtypes: int64(5)\n",
      "memory usage: 716.9 KB\n"
     ]
    }
   ],
   "source": [
    "df_15['month'] =  df_15.index.strftime('%m')\n",
    "df_15['hour'] =  df_15.index.strftime('%H')\n",
    "df_15['day'] =  df_15.index.strftime('%d')\n",
    "df_15['month'] =  df_15['month'].astype('int64')\n",
    "df_15['hour'] = df_15['hour'].astype('int64')\n",
    "df_15['day'] = df_15['day'].astype('int64')\n",
    "df_15['day_of_week'] =  df_15.index.day_of_week\n",
    "df_15.info()"
   ]
  },
  {
   "cell_type": "code",
   "execution_count": 285,
   "id": "c72f01ab",
   "metadata": {},
   "outputs": [
    {
     "data": {
      "text/plain": [
       "day\n",
       "1     3166\n",
       "2     3024\n",
       "3     3439\n",
       "4     3973\n",
       "5     3197\n",
       "6     3247\n",
       "7     3962\n",
       "8     3981\n",
       "9     2809\n",
       "10    3276\n",
       "11    3826\n",
       "12    3578\n",
       "13    2998\n",
       "14    3395\n",
       "15    3308\n",
       "16    2198\n",
       "17    3008\n",
       "18    2916\n",
       "19    2830\n",
       "20    2866\n",
       "21    3448\n",
       "22    3460\n",
       "23    2222\n",
       "24    2292\n",
       "25    2333\n",
       "26    2157\n",
       "27    2720\n",
       "28    3506\n",
       "29    2168\n",
       "30    1407\n",
       "31    1555\n",
       "Name: counts, dtype: int64"
      ]
     },
     "execution_count": 285,
     "metadata": {},
     "output_type": "execute_result"
    }
   ],
   "source": [
    "df_15.groupby('day').sum().counts"
   ]
  },
  {
   "cell_type": "code",
   "execution_count": 302,
   "id": "cdbc7d69",
   "metadata": {},
   "outputs": [
    {
     "data": {
      "text/plain": [
       "Text(0.5, 1.0, 'users by day of month')"
      ]
     },
     "execution_count": 302,
     "metadata": {},
     "output_type": "execute_result"
    },
    {
     "data": {
      "image/png": "[encoded data removed]",
      "text/plain": [
       "<Figure size 432x288 with 1 Axes>"
      ]
     },
     "metadata": {
      "needs_background": "light"
     },
     "output_type": "display_data"
    }
   ],
   "source": [
    "df_no_march  =df_15.loc[df_15.month != 4] #drop march because it doesn't have a full month\n",
    "\n",
    "df_no_march.groupby('day').sum().counts.plot()\n",
    "plt.title('users by day of month')"
   ]
  },
  {
   "cell_type": "code",
   "execution_count": 291,
   "id": "9353a69f",
   "metadata": {},
   "outputs": [
    {
     "data": {
      "text/plain": [
       "Text(0.5, 1.0, 'users by hour of day')"
      ]
     },
     "execution_count": 291,
     "metadata": {},
     "output_type": "execute_result"
    },
    {
     "data": {
      "image/png": "[encoded data removed]",
      "text/plain": [
       "<Figure size 432x288 with 1 Axes>"
      ]
     },
     "metadata": {
      "needs_background": "light"
     },
     "output_type": "display_data"
    }
   ],
   "source": [
    "df_15.groupby('hour').sum().counts.plot()\n",
    "plt.title('users by hour of day')"
   ]
  },
  {
   "cell_type": "code",
   "execution_count": 314,
   "id": "c0f2b7ef",
   "metadata": {},
   "outputs": [
    {
     "data": {
      "text/plain": [
       "Text(0.5, 1.0, 'users by day of week')"
      ]
     },
     "execution_count": 314,
     "metadata": {},
     "output_type": "execute_result"
    },
    {
     "data": {
      "image/png": "[encoded data removed]",
      "text/plain": [
       "<Figure size 432x288 with 1 Axes>"
      ]
     },
     "metadata": {
      "needs_background": "light"
     },
     "output_type": "display_data"
    }
   ],
   "source": [
    "df_15.groupby('day_of_week').sum().counts.plot()\n",
    "plt.title('users by day of week')"
   ]
  },
  {
   "cell_type": "markdown",
   "id": "ca14319a",
   "metadata": {},
   "source": [
    "There is a lot to pull from the data just from the graphs shown. First off the plotting the 15 minute sum reveals that the users come on a cyclic basis and that there are certain periods of the day where people are more likely to login. From further analysis we can see that there are peaks and values throughout the month meaning that there are also specific days of the month that people are more likely to login. We also see that user sign in peak during the early or late hours of the day wiht anohter peak around lunch time. Lastly we can see that monday is the worst day for users to sign in then throughout the week the users steadily pick up peaking at saturday before a short decline on sunday"
   ]
  },
  {
   "cell_type": "code",
   "execution_count": null,
   "id": "abb25f0e",
   "metadata": {},
   "outputs": [],
   "source": []
  }
 ],
 "metadata": {
  "kernelspec": {
   "display_name": "Python 3",
   "language": "python",
   "name": "python3"
  },
  "language_info": {
   "codemirror_mode": {
    "name": "ipython",
    "version": 3
   },
   "file_extension": ".py",
   "mimetype": "text/x-python",
   "name": "python",
   "nbconvert_exporter": "python",
   "pygments_lexer": "ipython3",
   "version": "3.8.8"
  }
 },
 "nbformat": 4,
 "nbformat_minor": 5
}
